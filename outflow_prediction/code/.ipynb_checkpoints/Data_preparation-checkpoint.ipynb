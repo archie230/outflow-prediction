{
 "cells": [
  {
   "cell_type": "code",
   "execution_count": 1,
   "metadata": {},
   "outputs": [],
   "source": [
    "import pyarrow.parquet as pq\n",
    "import pandas as pd\n",
    "import numpy as np\n",
    "from datetime import datetime\n",
    "from matplotlib import pyplot as plt\n",
    "\n",
    "data_path = '../data/'"
   ]
  },
  {
   "cell_type": "code",
   "execution_count": 2,
   "metadata": {},
   "outputs": [],
   "source": [
    "transactions_df = pq.read_pandas(data_path + 'transactions.parquet').to_pandas()\n",
    "clients_df = pd.read_csv(data_path + 'clients.csv')\n",
    "materials_df = pd.read_csv(data_path + 'materials.csv',\n",
    "                           usecols=['material', 'hier_level_1', 'is_private_label', 'is_alco'])\n",
    "plants_df = pd.read_csv(data_path + 'plants.csv')\n",
    "\n",
    "# уберем из transactions_df все записи у которых нет информации по клиенту\n",
    "transactions_df = transactions_df.set_index('client_id')\n",
    "clients_df = clients_df.set_index('client_id')\n",
    "transactions_df = transactions_df.loc[transactions_df.index.isin(clients_df.index)]\n",
    "transactions_df = transactions_df.reset_index()\n",
    "clients_df = clients_df.reset_index()"
   ]
  },
  {
   "cell_type": "code",
   "execution_count": 3,
   "metadata": {},
   "outputs": [
    {
     "name": "stdout",
     "output_type": "stream",
     "text": [
      "<class 'pandas.core.frame.DataFrame'>\n",
      "RangeIndex: 32107798 entries, 0 to 32107797\n",
      "Data columns (total 9 columns):\n",
      " #   Column        Dtype         \n",
      "---  ------        -----         \n",
      " 0   client_id     object        \n",
      " 1   chq_id        object        \n",
      " 2   plant         object        \n",
      " 3   chq_date      datetime64[ns]\n",
      " 4   chq_position  object        \n",
      " 5   material      object        \n",
      " 6   sales_count   float64       \n",
      " 7   sales_sum     float64       \n",
      " 8   is_promo      int64         \n",
      "dtypes: datetime64[ns](1), float64(2), int64(1), object(5)\n",
      "memory usage: 2.2+ GB\n"
     ]
    }
   ],
   "source": [
    "transactions_df.info()"
   ]
  },
  {
   "cell_type": "code",
   "execution_count": 4,
   "metadata": {},
   "outputs": [
    {
     "name": "stdout",
     "output_type": "stream",
     "text": [
      "<class 'pandas.core.frame.DataFrame'>\n",
      "RangeIndex: 99995 entries, 0 to 99994\n",
      "Data columns (total 4 columns):\n",
      " #   Column     Non-Null Count  Dtype  \n",
      "---  ------     --------------  -----  \n",
      " 0   client_id  99995 non-null  object \n",
      " 1   gender     99640 non-null  object \n",
      " 2   city       99995 non-null  object \n",
      " 3   birthyear  98219 non-null  float64\n",
      "dtypes: float64(1), object(3)\n",
      "memory usage: 3.1+ MB\n"
     ]
    }
   ],
   "source": [
    "clients_df.info()"
   ]
  },
  {
   "cell_type": "code",
   "execution_count": 5,
   "metadata": {},
   "outputs": [
    {
     "data": {
      "text/html": [
       "<div>\n",
       "<style scoped>\n",
       "    .dataframe tbody tr th:only-of-type {\n",
       "        vertical-align: middle;\n",
       "    }\n",
       "\n",
       "    .dataframe tbody tr th {\n",
       "        vertical-align: top;\n",
       "    }\n",
       "\n",
       "    .dataframe thead th {\n",
       "        text-align: right;\n",
       "    }\n",
       "</style>\n",
       "<table border=\"1\" class=\"dataframe\">\n",
       "  <thead>\n",
       "    <tr style=\"text-align: right;\">\n",
       "      <th></th>\n",
       "      <th>sales_count</th>\n",
       "      <th>sales_sum</th>\n",
       "      <th>is_promo</th>\n",
       "    </tr>\n",
       "  </thead>\n",
       "  <tbody>\n",
       "    <tr>\n",
       "      <th>count</th>\n",
       "      <td>3.210780e+07</td>\n",
       "      <td>3.210780e+07</td>\n",
       "      <td>3.210780e+07</td>\n",
       "    </tr>\n",
       "    <tr>\n",
       "      <th>mean</th>\n",
       "      <td>1.319233e+00</td>\n",
       "      <td>1.228878e+02</td>\n",
       "      <td>4.833856e-01</td>\n",
       "    </tr>\n",
       "    <tr>\n",
       "      <th>std</th>\n",
       "      <td>2.015427e+00</td>\n",
       "      <td>2.502049e+02</td>\n",
       "      <td>4.997239e-01</td>\n",
       "    </tr>\n",
       "    <tr>\n",
       "      <th>min</th>\n",
       "      <td>-1.656000e+03</td>\n",
       "      <td>-9.838800e+04</td>\n",
       "      <td>0.000000e+00</td>\n",
       "    </tr>\n",
       "    <tr>\n",
       "      <th>25%</th>\n",
       "      <td>1.000000e+00</td>\n",
       "      <td>3.999000e+01</td>\n",
       "      <td>0.000000e+00</td>\n",
       "    </tr>\n",
       "    <tr>\n",
       "      <th>50%</th>\n",
       "      <td>1.000000e+00</td>\n",
       "      <td>7.398000e+01</td>\n",
       "      <td>0.000000e+00</td>\n",
       "    </tr>\n",
       "    <tr>\n",
       "      <th>75%</th>\n",
       "      <td>1.000000e+00</td>\n",
       "      <td>1.399900e+02</td>\n",
       "      <td>1.000000e+00</td>\n",
       "    </tr>\n",
       "    <tr>\n",
       "      <th>max</th>\n",
       "      <td>3.000000e+03</td>\n",
       "      <td>1.985715e+05</td>\n",
       "      <td>1.000000e+00</td>\n",
       "    </tr>\n",
       "  </tbody>\n",
       "</table>\n",
       "</div>"
      ],
      "text/plain": [
       "        sales_count     sales_sum      is_promo\n",
       "count  3.210780e+07  3.210780e+07  3.210780e+07\n",
       "mean   1.319233e+00  1.228878e+02  4.833856e-01\n",
       "std    2.015427e+00  2.502049e+02  4.997239e-01\n",
       "min   -1.656000e+03 -9.838800e+04  0.000000e+00\n",
       "25%    1.000000e+00  3.999000e+01  0.000000e+00\n",
       "50%    1.000000e+00  7.398000e+01  0.000000e+00\n",
       "75%    1.000000e+00  1.399900e+02  1.000000e+00\n",
       "max    3.000000e+03  1.985715e+05  1.000000e+00"
      ]
     },
     "execution_count": 5,
     "metadata": {},
     "output_type": "execute_result"
    }
   ],
   "source": [
    "transactions_df.describe()"
   ]
  },
  {
   "cell_type": "markdown",
   "metadata": {},
   "source": [
    "Заметим, что в транзакциях есть как покупки так и возвраты. Разделим на два датафрейма"
   ]
  },
  {
   "cell_type": "code",
   "execution_count": 6,
   "metadata": {},
   "outputs": [],
   "source": [
    "purchase_df = transactions_df[transactions_df['sales_sum'] > 0]\n",
    "return_df = transactions_df[transactions_df['sales_sum'] < 0]\n",
    "del transactions_df"
   ]
  },
  {
   "cell_type": "code",
   "execution_count": 7,
   "metadata": {},
   "outputs": [
    {
     "data": {
      "text/plain": [
       "(99995, 22773)"
      ]
     },
     "execution_count": 7,
     "metadata": {},
     "output_type": "execute_result"
    }
   ],
   "source": [
    "len(purchase_df['client_id'].unique()), len(return_df['client_id'])"
   ]
  },
  {
   "cell_type": "markdown",
   "metadata": {},
   "source": [
    "## Посмотрим на распределение дат последних покупок "
   ]
  },
  {
   "cell_type": "code",
   "execution_count": 8,
   "metadata": {},
   "outputs": [
    {
     "name": "stdout",
     "output_type": "stream",
     "text": [
      "Информация о транзакциях доступна за промежуток: с 2016-10-04 00:00:00 по 2017-10-04 00:00:00 \n"
     ]
    }
   ],
   "source": [
    "first_purchase_date = purchase_df['chq_date'].min()\n",
    "print('Информация о транзакциях доступна за промежуток: с {} по {} '.format(purchase_df['chq_date'].min(), purchase_df['chq_date'].max()))"
   ]
  },
  {
   "cell_type": "code",
   "execution_count": 9,
   "metadata": {},
   "outputs": [],
   "source": [
    "client_purchase_df = purchase_df.drop_duplicates(subset='chq_id', ignore_index=True)[['chq_date', 'client_id']]\\\n",
    "                        .groupby('client_id', as_index=False)\\\n",
    "                        .agg(lambda x : sorted(x.tolist()))\n",
    "\n",
    "client_purchase_df = client_purchase_df.rename(columns={'chq_date' : 'purchase_dates'})"
   ]
  },
  {
   "cell_type": "code",
   "execution_count": 10,
   "metadata": {},
   "outputs": [
    {
     "data": {
      "image/png": "[encoded data removed]",
      "text/plain": [
       "<Figure size 864x576 with 1 Axes>"
      ]
     },
     "metadata": {
      "needs_background": "light"
     },
     "output_type": "display_data"
    }
   ],
   "source": [
    "ax = plt.axes()\n",
    "plt.title('Распределение клиентов по датам последних покупок')\n",
    "client_purchase_df['purchase_dates'].apply(lambda x : x[-1]).hist(figsize=(12,8), bins=50, ax=ax)\n",
    "plt.show()"
   ]
  },
  {
   "cell_type": "markdown",
   "metadata": {},
   "source": [
    "### Для того, чтобы разметить данные будем считать отточными тех клиентов, у которых последняя транзакция была совершена до 2017.05.04. Доля таких клиентов примерно 15%"
   ]
  },
  {
   "cell_type": "code",
   "execution_count": 11,
   "metadata": {},
   "outputs": [
    {
     "name": "stdout",
     "output_type": "stream",
     "text": [
      "Доля отточных клиентов в нашей выборке: 15.249762488124407%\n"
     ]
    }
   ],
   "source": [
    "last_transaction_threshold = datetime(year=2017, month=5, day=4)\n",
    "outflow_percentage = (client_purchase_df['purchase_dates'].apply(lambda x : x[-1]) < last_transaction_threshold).sum() / len(client_purchase_df) * 100\n",
    "print('Доля отточных клиентов в нашей выборке: {}%'.format(outflow_percentage))"
   ]
  },
  {
   "cell_type": "code",
   "execution_count": 12,
   "metadata": {},
   "outputs": [],
   "source": [
    "client_purchase_df['is_outflow'] = client_purchase_df['purchase_dates']\\\n",
    "                                        .apply(lambda x : x[-1]) < last_transaction_threshold\n",
    "client_purchase_df['purchase_dates'] = client_purchase_df['purchase_dates']\\\n",
    "                                            .apply(lambda x : list(filter(lambda i : i < last_transaction_threshold, x)))"
   ]
  },
  {
   "cell_type": "markdown",
   "metadata": {},
   "source": [
    "### Удалим информацию о транзакциях клиентов начиная с 2017.05.01, чтобы избежать утечки информации об ответах в признаки объектов"
   ]
  },
  {
   "cell_type": "code",
   "execution_count": 13,
   "metadata": {
    "scrolled": true
   },
   "outputs": [],
   "source": [
    "purchase_df = purchase_df[purchase_df['chq_date'] < last_transaction_threshold].reset_index()\n",
    "return_df = return_df[return_df['chq_date'] < last_transaction_threshold].reset_index()"
   ]
  },
  {
   "cell_type": "markdown",
   "metadata": {},
   "source": [
    "## Сформируем датасет в который будут входить признаки:\n",
    "Пол\n",
    "\n",
    "Возраст\n",
    "\n",
    "Город в котором покупки совершались чаще всего\n",
    "\n",
    "Сколько прошло времени с последней транзакции до 2017.05.01\n",
    "\n",
    "Частота: сколько покупок в среднем в месяц совершал клиент\n",
    "\n",
    "Количество возвратов в месяц\n",
    "\n",
    "Средняя сумма возврата\n",
    "\n",
    "Сколько различных магазинов посещал клиент\n",
    "\n",
    "Средний чек клиента\n",
    "\n",
    "Среднее количество товаров по промо в чеке\n",
    "\n",
    "Среднее количество алкоголя в чеке\n",
    "\n",
    "Среднее количество private_label продуктов в чеке\n",
    "\n",
    "Среднее количество еды в чеке\n",
    "\n",
    "Среднее количество не еды в чеке\n",
    "\n",
    "is_outflow: 1 если клиент уйдет, 0 если останется"
   ]
  },
  {
   "cell_type": "code",
   "execution_count": 36,
   "metadata": {},
   "outputs": [],
   "source": [
    "from DataPrep import DataPrep"
   ]
  },
  {
   "cell_type": "code",
   "execution_count": 37,
   "metadata": {},
   "outputs": [],
   "source": [
    "dp = DataPrep(purchase_df, return_df, clients_df,\n",
    "              materials_df, plants_df, client_purchase_df[['client_id', 'is_outflow']],\n",
    "              last_transaction_threshold)"
   ]
  },
  {
   "cell_type": "markdown",
   "metadata": {},
   "source": [
    "Создание df занимает примерно 6 минут"
   ]
  },
  {
   "cell_type": "code",
   "execution_count": 33,
   "metadata": {},
   "outputs": [
    {
     "name": "stdout",
     "output_type": "stream",
     "text": [
      "Creating client transactions df...\n",
      "\tMerging purchase with materials...\n",
      "\tDone!\n",
      "\tMerging purchase with plants...\n",
      "\tDone!\n",
      "\tAggregating purchase by checks...\n",
      "\tDone!\n",
      "\tAggregating purchase by clients...\n",
      "\tDone!\n",
      "\tMerging returns with materials...\n",
      "\tDone!\n",
      "\tAggregating returns by checks...\n",
      "\tDone!\n",
      "\tAggregating returns by clients...\n",
      "\tDone!\n",
      "\tAdding return_sum to df...\n",
      "\tDone!\n",
      "Created!\n",
      "Creating client info df...\n",
      "\tData available for 7 months\n",
      "\tCreating client_purchase_dates_df...\n",
      "\tDone!\n",
      "\tCreating client_return_dates_df...\n",
      "\tDone!\n",
      "\tCreating clients info df...\n",
      "\tDone!\n",
      "Created!\n",
      "Merging...\n",
      "Merged!\n",
      "CPU times: user 4min 14s, sys: 23.5 s, total: 4min 37s\n",
      "Wall time: 5min 49s\n"
     ]
    }
   ],
   "source": [
    "%%time\n",
    "df = dp.create_dataset()\n",
    "df.to_csv(path_or_buf=data_path + 'dataset.csv')"
   ]
  }
 ],
 "metadata": {
  "kernelspec": {
   "display_name": "Python 3",
   "language": "python",
   "name": "python3"
  },
  "language_info": {
   "codemirror_mode": {
    "name": "ipython",
    "version": 3
   },
   "file_extension": ".py",
   "mimetype": "text/x-python",
   "name": "python",
   "nbconvert_exporter": "python",
   "pygments_lexer": "ipython3",
   "version": "3.7.6"
  }
 },
 "nbformat": 4,
 "nbformat_minor": 4
}
